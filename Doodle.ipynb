{
  "nbformat": 4,
  "nbformat_minor": 0,
  "metadata": {
    "colab": {
      "name": "Doodle.ipynb",
      "provenance": [],
      "collapsed_sections": []
    },
    "kernelspec": {
      "name": "python3",
      "display_name": "Python 3"
    },
    "accelerator": "GPU"
  },
  "cells": [
    {
      "cell_type": "code",
      "source": [
        "%tensorflow_version 2.x\n",
        "import tensorflow as tf\n",
        "print(tf.__version__)\n"
      ],
      "metadata": {
        "colab": {
          "base_uri": "https://localhost:8080/"
        },
        "id": "HxkisCiZ_SiG",
        "outputId": "c5be5c8a-c1b4-4037-ccd7-f67c035b81db"
      },
      "execution_count": null,
      "outputs": [
        {
          "output_type": "stream",
          "name": "stdout",
          "text": [
            "2.8.2\n"
          ]
        }
      ]
    },
    {
      "cell_type": "code",
      "metadata": {
        "id": "huOCHqaet2zS"
      },
      "source": [
        "import numpy as np\n",
        "import matplotlib.pyplot as plt\n",
        "import pandas as pd\n",
        "from tensorflow.keras.models import Model, Sequential\n",
        "from tensorflow.keras.layers import Dense, Activation, Conv2D, MaxPooling2D, Flatten, BatchNormalization, UpSampling2D\n",
        "from sklearn.model_selection import train_test_split\n",
        "import tensorflow.keras.backend as K\n",
        "from tensorflow.keras.regularizers import l2\n",
        "from google.colab import drive\n",
        "import skimage.io\n",
        "#drive.mount('/content/drive')\n",
        "\n"
      ],
      "execution_count": null,
      "outputs": []
    },
    {
      "cell_type": "code",
      "source": [
        "from google.colab import drive\n",
        "drive.mount('/content/drive')"
      ],
      "metadata": {
        "colab": {
          "base_uri": "https://localhost:8080/"
        },
        "id": "XGFNtACh48wP",
        "outputId": "fd593d56-47f7-4785-bb23-91ac9f86dc3f"
      },
      "execution_count": null,
      "outputs": [
        {
          "output_type": "stream",
          "name": "stdout",
          "text": [
            "Drive already mounted at /content/drive; to attempt to forcibly remount, call drive.mount(\"/content/drive\", force_remount=True).\n"
          ]
        }
      ]
    },
    {
      "cell_type": "code",
      "metadata": {
        "id": "iQqmhD3dk3u-"
      },
      "source": [
        "bee = np.load('/content/drive/My Drive/full_numpy_bitmap_bee.npy').reshape(120890,28,28,1)\n",
        "crocodile = np.load('/content/drive/My Drive/full_numpy_bitmap_crocodile.npy').reshape(127932,28,28,1)\n",
        "dragon = np.load('/content/drive/My Drive/full_numpy_bitmap_dragon.npy').reshape(124362,28,28,1)\n",
        "eye = np.load('/content/drive/My Drive/full_numpy_bitmap_eye.npy').reshape(125888,28,28,1)\n",
        "fish = np.load('/content/drive/My Drive/full_numpy_bitmap_fish.npy').reshape(134150,28,28,1)\n",
        "flamingo = np.load('/content/drive/My Drive/full_numpy_bitmap_flamingo.npy').reshape(124569,28,28,1)\n",
        "hedgehog = np.load('/content/drive/My Drive/full_numpy_bitmap_hedgehog.npy').reshape(120527,28,28,1)\n",
        "hotdog = np.load('/content/drive/My Drive/full_numpy_bitmap_hot dog.npy').reshape(181999,28,28,1)\n",
        "octopus = np.load('/content/drive/My Drive/full_numpy_bitmap_octopus.npy').reshape(150152,28,28,1)\n",
        "telephone = np.load('/content/drive/My Drive/full_numpy_bitmap_telephone.npy').reshape(127885,28,28,1)\n",
        "\n",
        "results = ['bee',\n",
        "          'crocodile',\n",
        "          'dragon',\n",
        "          'eye',\n",
        "          'fish',\n",
        "          'flamingo',\n",
        "          'hedgehog',\n",
        "          'hotdog',\n",
        "          'octopus',\n",
        "          'telephone']\n",
        "classes = 10\n",
        "samples = 40000"
      ],
      "execution_count": null,
      "outputs": []
    },
    {
      "cell_type": "code",
      "metadata": {
        "id": "TFothogCMmBA",
        "outputId": "e68549c7-55f7-443c-9ef2-1b3e370bc930",
        "colab": {
          "base_uri": "https://localhost:8080/"
        }
      },
      "source": [
        "bee = bee[0:samples]\n",
        "crocodile = crocodile[0:samples]\n",
        "dragon = dragon[0:samples]\n",
        "eye = eye[0:samples]\n",
        "fish = fish[0:samples]\n",
        "flamingo = flamingo[0:samples]\n",
        "hedgehog = hedgehog[0:samples]\n",
        "hotdog = hotdog[0:samples]\n",
        "octopus = octopus[0:samples]\n",
        "telephone = telephone[0:samples]\n",
        "\n",
        "X = np.concatenate((bee,\n",
        "                    crocodile,\n",
        "                    dragon,\n",
        "                    eye,\n",
        "                    fish,\n",
        "                    flamingo,\n",
        "                    hedgehog,\n",
        "                    hotdog,\n",
        "                    octopus,\n",
        "                    telephone),\n",
        "                    axis = 0)\n",
        "print(X.shape)\n",
        "#X = X.reshape(50000,28,28,1)\n",
        "X = X/255\n",
        "Y = np.empty((samples * classes, 1))\n",
        "\n",
        "for i in range(0, classes) :\n",
        "  Y[i * samples : samples * (i + 1)] = i\n",
        "print(Y.shape)"
      ],
      "execution_count": null,
      "outputs": [
        {
          "output_type": "stream",
          "name": "stdout",
          "text": [
            "(400000, 28, 28, 1)\n",
            "(400000, 1)\n"
          ]
        }
      ]
    },
    {
      "cell_type": "code",
      "metadata": {
        "id": "CZuC0zFzUn0W",
        "outputId": "7eb019c5-63c3-47e7-f6ce-1c12c388753e",
        "colab": {
          "base_uri": "https://localhost:8080/"
        }
      },
      "source": [
        "from sklearn.model_selection import train_test_split\n",
        "xtr , xts , ytr, yts = train_test_split(X,Y, test_size = 0.2, random_state = 42)\n",
        "print(xts.shape)"
      ],
      "execution_count": null,
      "outputs": [
        {
          "output_type": "stream",
          "name": "stdout",
          "text": [
            "(80000, 28, 28, 1)\n"
          ]
        }
      ]
    },
    {
      "cell_type": "code",
      "metadata": {
        "id": "CVrKIS1eF7r_",
        "outputId": "23f82ad2-64b7-4389-cdfe-0cc87808e7a6",
        "colab": {
          "base_uri": "https://localhost:8080/"
        }
      },
      "source": [
        "K.clear_session()\n",
        "l=.001\n",
        "model = tf.keras.models.Sequential()\n",
        "model.add(Conv2D(64, (5,5), activation = 'relu', padding = 'valid', input_shape = (28,28,1)))\n",
        "model.add(MaxPooling2D((2,2)))\n",
        "model.add(Conv2D(32, (5,5), activation = 'relu', padding = 'valid'))     \n",
        "model.add(MaxPooling2D((2,2)))\n",
        "model.add(Flatten())\n",
        "model.add(Dense(120,activation = 'relu', kernel_regularizer = l2(l)))\n",
        "model.add(Dense(84,activation = 'relu', kernel_regularizer = l2(l)))\n",
        "model.add(Dense(classes,activation = 'softmax'))\n",
        "opt = tf.keras.optimizers.Adam(learning_rate = 0.001)\n",
        "model.compile(optimizer = opt, loss = 'sparse_categorical_crossentropy', metrics = ['accuracy'])\n",
        "hist = model.fit(xtr,ytr,validation_split = 0.2, batch_size = 100, epochs = 10)"
      ],
      "execution_count": null,
      "outputs": [
        {
          "output_type": "stream",
          "name": "stdout",
          "text": [
            "Epoch 1/10\n",
            "2560/2560 [==============================] - 24s 5ms/step - loss: 0.6758 - accuracy: 0.8308 - val_loss: 0.4771 - val_accuracy: 0.8812\n",
            "Epoch 2/10\n",
            "2560/2560 [==============================] - 12s 5ms/step - loss: 0.4374 - accuracy: 0.8901 - val_loss: 0.4232 - val_accuracy: 0.8914\n",
            "Epoch 3/10\n",
            "2560/2560 [==============================] - 13s 5ms/step - loss: 0.3857 - accuracy: 0.9010 - val_loss: 0.3809 - val_accuracy: 0.9015\n",
            "Epoch 4/10\n",
            "2560/2560 [==============================] - 13s 5ms/step - loss: 0.3603 - accuracy: 0.9074 - val_loss: 0.3631 - val_accuracy: 0.9066\n",
            "Epoch 5/10\n",
            "2560/2560 [==============================] - 12s 5ms/step - loss: 0.3421 - accuracy: 0.9112 - val_loss: 0.3503 - val_accuracy: 0.9086\n",
            "Epoch 6/10\n",
            "2560/2560 [==============================] - 13s 5ms/step - loss: 0.3281 - accuracy: 0.9150 - val_loss: 0.3427 - val_accuracy: 0.9097\n",
            "Epoch 7/10\n",
            "2560/2560 [==============================] - 12s 5ms/step - loss: 0.3177 - accuracy: 0.9173 - val_loss: 0.3421 - val_accuracy: 0.9098\n",
            "Epoch 8/10\n",
            "2560/2560 [==============================] - 13s 5ms/step - loss: 0.3097 - accuracy: 0.9196 - val_loss: 0.3326 - val_accuracy: 0.9118\n",
            "Epoch 9/10\n",
            "2560/2560 [==============================] - 13s 5ms/step - loss: 0.3011 - accuracy: 0.9213 - val_loss: 0.3371 - val_accuracy: 0.9098\n",
            "Epoch 10/10\n",
            "2560/2560 [==============================] - 12s 5ms/step - loss: 0.2947 - accuracy: 0.9229 - val_loss: 0.3295 - val_accuracy: 0.9129\n"
          ]
        }
      ]
    },
    {
      "cell_type": "code",
      "metadata": {
        "id": "CSlFcmI2I_fq",
        "outputId": "3283ca18-d087-4c75-a723-b3a4306471f7",
        "colab": {
          "base_uri": "https://localhost:8080/",
          "height": 283
        }
      },
      "source": [
        "import sklearn\n",
        "xts = xts.reshape(xts.shape[0], 28, 28, 1)\n",
        "yhat = model.predict(xts)\n",
        "yhat_max = np.ones(len(yhat[:,0]))\n",
        "for i in range(len(yhat[:,0])) :\n",
        "  yhat_max[i] = np.argmax(yhat[i])\n",
        "\n",
        "accTs = sklearn.metrics.accuracy_score(yts, yhat_max)\n",
        "print('test accuracy: ' + str(accTs * 100) + '%')\n",
        "plt.plot(hist.history['accuracy'])\n",
        "plt.plot(hist.history['val_accuracy'])\n",
        "plt.plot(hist.history['loss'])\n",
        "plt.legend(['acc','val_acc','loss'])\n",
        "plt.show()\n",
        "#print (\"test accuracy-\", acc , \"%\")"
      ],
      "execution_count": null,
      "outputs": [
        {
          "output_type": "stream",
          "name": "stdout",
          "text": [
            "test accuracy: 91.2325%\n"
          ]
        },
        {
          "output_type": "display_data",
          "data": {
            "text/plain": [
              "<Figure size 432x288 with 1 Axes>"
            ],
            "image/png": "[encoded data removed]"
          },
          "metadata": {
            "needs_background": "light"
          }
        }
      ]
    },
    {
      "cell_type": "code",
      "metadata": {
        "id": "eo9OlAMrxOXx",
        "outputId": "586a275b-8715-4ec9-fe53-2a7264ee156b",
        "colab": {
          "base_uri": "https://localhost:8080/"
        }
      },
      "source": [
        "from google.colab import drive\n",
        "drive.mount('/content/drive',force_remount = True)"
      ],
      "execution_count": null,
      "outputs": [
        {
          "output_type": "stream",
          "name": "stdout",
          "text": [
            "Mounted at /content/drive\n"
          ]
        }
      ]
    },
    {
      "cell_type": "code",
      "metadata": {
        "id": "J67XJhfnahxP"
      },
      "source": [
        "import skimage\n",
        "inputSamples = 10\n",
        "inputSample = 3\n",
        "testSample = 3\n",
        "inputs = [0]* inputSamples\n",
        "inputdr = [0]* inputSample\n",
        "inputtest = [0]* inputSample\n",
        "i = 0\n",
        "j = 0\n",
        "\n",
        "for i in range (0,inputSamples):\n",
        "  j = i+1\n",
        "  inputs[i] = skimage.io.imread('/content/drive/My Drive/input/img' + str(j) + '.png')\n",
        "k = 0  \n",
        "for k in range (0,inputSample):\n",
        "  z = k+1\n",
        "  if z == 2:\n",
        "    z = z+1\n",
        "  inputdr[k] = skimage.io.imread('/content/drive/My Drive/input/papimg' + str(z) + '.png')\n",
        "for q in range (1,inputSample):\n",
        "  n = q+1\n",
        "  inputtest[q] = skimage.io.imread('/content/drive/My Drive/input/testimg' + str(n) + '.png')\n"
      ],
      "execution_count": null,
      "outputs": []
    },
    {
      "cell_type": "code",
      "metadata": {
        "id": "OZbn8OOChJbC",
        "outputId": "5bcc8dc9-eb68-4c1e-e077-3f769936f749",
        "colab": {
          "base_uri": "https://localhost:8080/",
          "height": 1000
        }
      },
      "source": [
        "def test(img):\n",
        "  img = img[:,:,0]\n",
        "  img = img.reshape(1,28,28,1)\n",
        "  yhat = model.predict(img)\n",
        "  img = img.reshape(28,28)\n",
        "  plt.title(results[np.argmax(yhat)])\n",
        "  plt.imshow(img,'gray')\n",
        "  plt.show()\n",
        "  \n",
        "def testdraw(img):\n",
        "  img = img[:,:,0]\n",
        "  img = img.reshape(1,28,28,1)\n",
        "  img = img/255\n",
        "  img[img>.6] =1\n",
        "  img[img<.7] =0\n",
        "  img = 1-img\n",
        "  yhat = model.predict_proba(img)\n",
        "  img = img.reshape(28,28)\n",
        "  plt.title(results[np.argmax(yhat)])\n",
        "  plt.imshow(img, 'gray')\n",
        "  \n",
        "for cim in range(len(inputs)) :\n",
        "  test(inputs[cim])"
      ],
      "execution_count": null,
      "outputs": [
        {
          "output_type": "display_data",
          "data": {
            "text/plain": [
              "<Figure size 432x288 with 1 Axes>"
            ],
            "image/png": "[encoded data removed]"
          },
          "metadata": {
            "needs_background": "light"
          }
        },
        {
          "output_type": "display_data",
          "data": {
            "text/plain": [
              "<Figure size 432x288 with 1 Axes>"
            ],
            "image/png": "[encoded data removed]"
          },
          "metadata": {
            "needs_background": "light"
          }
        },
        {
          "output_type": "display_data",
          "data": {
            "text/plain": [
              "<Figure size 432x288 with 1 Axes>"
            ],
            "image/png": "[encoded data removed]"
          },
          "metadata": {
            "needs_background": "light"
          }
        },
        {
          "output_type": "display_data",
          "data": {
            "text/plain": [
              "<Figure size 432x288 with 1 Axes>"
            ],
            "image/png": "[encoded data removed]"
          },
          "metadata": {
            "needs_background": "light"
          }
        },
        {
          "output_type": "display_data",
          "data": {
            "text/plain": [
              "<Figure size 432x288 with 1 Axes>"
            ],
            "image/png": "[encoded data removed]"
          },
          "metadata": {
            "needs_background": "light"
          }
        },
        {
          "output_type": "display_data",
          "data": {
            "text/plain": [
              "<Figure size 432x288 with 1 Axes>"
            ],
            "image/png": "[encoded data removed]"
          },
          "metadata": {
            "needs_background": "light"
          }
        },
        {
          "output_type": "display_data",
          "data": {
            "text/plain": [
              "<Figure size 432x288 with 1 Axes>"
            ],
            "image/png": "[encoded data removed]"
          },
          "metadata": {
            "needs_background": "light"
          }
        },
        {
          "output_type": "display_data",
          "data": {
            "text/plain": [
              "<Figure size 432x288 with 1 Axes>"
            ],
            "image/png": "[encoded data removed]"
          },
          "metadata": {
            "needs_background": "light"
          }
        },
        {
          "output_type": "display_data",
          "data": {
            "text/plain": [
              "<Figure size 432x288 with 1 Axes>"
            ],
            "image/png": "[encoded data removed]"
          },
          "metadata": {
            "needs_background": "light"
          }
        },
        {
          "output_type": "display_data",
          "data": {
            "text/plain": [
              "<Figure size 432x288 with 1 Axes>"
            ],
            "image/png": "[encoded data removed]"
          },
          "metadata": {
            "needs_background": "light"
          }
        }
      ]
    },
    {
      "cell_type": "code",
      "metadata": {
        "id": "xTUzlM8Em1QD"
      },
      "source": [
        "\n"
      ],
      "execution_count": null,
      "outputs": []
    }
  ]
}