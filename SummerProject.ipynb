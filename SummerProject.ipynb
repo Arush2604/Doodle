{
  "nbformat": 4,
  "nbformat_minor": 0,
  "metadata": {
    "colab": {
      "name": "SummerProject.ipynb",
      "provenance": [],
      "collapsed_sections": [],
      "include_colab_link": true
    },
    "kernelspec": {
      "name": "python3",
      "display_name": "Python 3"
    },
    "accelerator": "GPU"
  },
  "cells": [
    {
      "cell_type": "markdown",
      "metadata": {
        "id": "view-in-github",
        "colab_type": "text"
      },
      "source": [
        "<a href=\"https://colab.research.google.com/github/Arush2604/summerprojectNYU/blob/master/SummerProject.ipynb\" target=\"_parent\"><img src=\"https://colab.research.google.com/assets/colab-badge.svg\" alt=\"Open In Colab\"/></a>"
      ]
    },
    {
      "cell_type": "code",
      "metadata": {
        "id": "huOCHqaet2zS",
        "colab_type": "code",
        "colab": {}
      },
      "source": [
        "import numpy as np\n",
        "import matplotlib.pyplot as plt\n",
        "import tensorflow as tf\n",
        "import pandas as pd\n",
        "from tensorflow.keras.models import Model, Sequential\n",
        "from tensorflow.keras.layers import Dense, Activation, Conv2D, MaxPooling2D, Flatten, BatchNormalization, UpSampling2D\n",
        "from sklearn.model_selection import train_test_split\n",
        "import tensorflow.keras.backend as K\n",
        "from tensorflow.keras.regularizers import l2\n",
        "from google.colab import drive\n",
        "#drive.mount('/content/drive')\n",
        "\n"
      ],
      "execution_count": 0,
      "outputs": []
    },
    {
      "cell_type": "code",
      "metadata": {
        "id": "iQqmhD3dk3u-",
        "colab_type": "code",
        "outputId": "cfec639b-9be4-4cbf-ebaa-020fc2b0c605",
        "colab": {
          "base_uri": "https://localhost:8080/",
          "height": 345
        }
      },
      "source": [
        "bee = np.load('/content/drive/My Drive/full_numpy_bitmap_bee.npy').reshape(120890,28,28,1)\n",
        "crocodile = np.load('/content/drive/My Drive/full_numpy_bitmap_crocodile.npy').reshape(127932,28,28,1)\n",
        "dragon = np.load('/content/drive/My Drive/full_numpy_bitmap_dragon.npy').reshape(124362,28,28,1)\n",
        "eye = np.load('/content/drive/My Drive/full_numpy_bitmap_eye.npy').reshape(125888,28,28,1)\n",
        "fish = np.load('/content/drive/My Drive/full_numpy_bitmap_fish.npy').reshape(134150,28,28,1)\n",
        "flamingo = np.load('/content/drive/My Drive/full_numpy_bitmap_flamingo.npy').reshape(124569,28,28,1)\n",
        "hedgehog = np.load('/content/drive/My Drive/full_numpy_bitmap_hedgehog.npy').reshape(120527,28,28,1)\n",
        "hotdog = np.load('/content/drive/My Drive/full_numpy_bitmap_hot dog.npy').reshape(181999,28,28,1)\n",
        "octopus = np.load('/content/drive/My Drive/full_numpy_bitmap_octopus.npy').reshape(150152,28,28,1)\n",
        "telephone = np.load('/content/drive/My Drive/full_numpy_bitmap_telephone.npy').reshape(127885,28,28,1)\n",
        "\n",
        "results = ['bee',\n",
        "          'crocodile',\n",
        "          'dragon',\n",
        "          'eye',\n",
        "          'fish',\n",
        "          'flamingo',\n",
        "          'hedgehog',\n",
        "          'hotdog',\n",
        "          'octopus',\n",
        "          'telephone']\n",
        "classes = 10\n",
        "samples = 40000"
      ],
      "execution_count": 0,
      "outputs": [
        {
          "output_type": "error",
          "ename": "FileNotFoundError",
          "evalue": "ignored",
          "traceback": [
            "\u001b[0;31m---------------------------------------------------------------------------\u001b[0m",
            "\u001b[0;31mFileNotFoundError\u001b[0m                         Traceback (most recent call last)",
            "\u001b[0;32m<ipython-input-3-b6b85546cb9e>\u001b[0m in \u001b[0;36m<module>\u001b[0;34m()\u001b[0m\n\u001b[0;32m----> 1\u001b[0;31m \u001b[0mbee\u001b[0m \u001b[0;34m=\u001b[0m \u001b[0mnp\u001b[0m\u001b[0;34m.\u001b[0m\u001b[0mload\u001b[0m\u001b[0;34m(\u001b[0m\u001b[0;34m'/content/drive/My Drive/full_numpy_bitmap_bee.npy'\u001b[0m\u001b[0;34m)\u001b[0m\u001b[0;34m.\u001b[0m\u001b[0mreshape\u001b[0m\u001b[0;34m(\u001b[0m\u001b[0;36m120890\u001b[0m\u001b[0;34m,\u001b[0m\u001b[0;36m28\u001b[0m\u001b[0;34m,\u001b[0m\u001b[0;36m28\u001b[0m\u001b[0;34m,\u001b[0m\u001b[0;36m1\u001b[0m\u001b[0;34m)\u001b[0m\u001b[0;34m\u001b[0m\u001b[0;34m\u001b[0m\u001b[0m\n\u001b[0m\u001b[1;32m      2\u001b[0m \u001b[0mcrocodile\u001b[0m \u001b[0;34m=\u001b[0m \u001b[0mnp\u001b[0m\u001b[0;34m.\u001b[0m\u001b[0mload\u001b[0m\u001b[0;34m(\u001b[0m\u001b[0;34m'/content/drive/My Drive/full_numpy_bitmap_crocodile.npy'\u001b[0m\u001b[0;34m)\u001b[0m\u001b[0;34m.\u001b[0m\u001b[0mreshape\u001b[0m\u001b[0;34m(\u001b[0m\u001b[0;36m127932\u001b[0m\u001b[0;34m,\u001b[0m\u001b[0;36m28\u001b[0m\u001b[0;34m,\u001b[0m\u001b[0;36m28\u001b[0m\u001b[0;34m,\u001b[0m\u001b[0;36m1\u001b[0m\u001b[0;34m)\u001b[0m\u001b[0;34m\u001b[0m\u001b[0;34m\u001b[0m\u001b[0m\n\u001b[1;32m      3\u001b[0m \u001b[0mdragon\u001b[0m \u001b[0;34m=\u001b[0m \u001b[0mnp\u001b[0m\u001b[0;34m.\u001b[0m\u001b[0mload\u001b[0m\u001b[0;34m(\u001b[0m\u001b[0;34m'/content/drive/My Drive/full_numpy_bitmap_dragon.npy'\u001b[0m\u001b[0;34m)\u001b[0m\u001b[0;34m.\u001b[0m\u001b[0mreshape\u001b[0m\u001b[0;34m(\u001b[0m\u001b[0;36m124362\u001b[0m\u001b[0;34m,\u001b[0m\u001b[0;36m28\u001b[0m\u001b[0;34m,\u001b[0m\u001b[0;36m28\u001b[0m\u001b[0;34m,\u001b[0m\u001b[0;36m1\u001b[0m\u001b[0;34m)\u001b[0m\u001b[0;34m\u001b[0m\u001b[0;34m\u001b[0m\u001b[0m\n\u001b[1;32m      4\u001b[0m \u001b[0meye\u001b[0m \u001b[0;34m=\u001b[0m \u001b[0mnp\u001b[0m\u001b[0;34m.\u001b[0m\u001b[0mload\u001b[0m\u001b[0;34m(\u001b[0m\u001b[0;34m'/content/drive/My Drive/full_numpy_bitmap_eye.npy'\u001b[0m\u001b[0;34m)\u001b[0m\u001b[0;34m.\u001b[0m\u001b[0mreshape\u001b[0m\u001b[0;34m(\u001b[0m\u001b[0;36m125888\u001b[0m\u001b[0;34m,\u001b[0m\u001b[0;36m28\u001b[0m\u001b[0;34m,\u001b[0m\u001b[0;36m28\u001b[0m\u001b[0;34m,\u001b[0m\u001b[0;36m1\u001b[0m\u001b[0;34m)\u001b[0m\u001b[0;34m\u001b[0m\u001b[0;34m\u001b[0m\u001b[0m\n\u001b[1;32m      5\u001b[0m \u001b[0mfish\u001b[0m \u001b[0;34m=\u001b[0m \u001b[0mnp\u001b[0m\u001b[0;34m.\u001b[0m\u001b[0mload\u001b[0m\u001b[0;34m(\u001b[0m\u001b[0;34m'/content/drive/My Drive/full_numpy_bitmap_fish.npy'\u001b[0m\u001b[0;34m)\u001b[0m\u001b[0;34m.\u001b[0m\u001b[0mreshape\u001b[0m\u001b[0;34m(\u001b[0m\u001b[0;36m134150\u001b[0m\u001b[0;34m,\u001b[0m\u001b[0;36m28\u001b[0m\u001b[0;34m,\u001b[0m\u001b[0;36m28\u001b[0m\u001b[0;34m,\u001b[0m\u001b[0;36m1\u001b[0m\u001b[0;34m)\u001b[0m\u001b[0;34m\u001b[0m\u001b[0;34m\u001b[0m\u001b[0m\n",
            "\u001b[0;32m/usr/local/lib/python3.6/dist-packages/numpy/lib/npyio.py\u001b[0m in \u001b[0;36mload\u001b[0;34m(file, mmap_mode, allow_pickle, fix_imports, encoding)\u001b[0m\n\u001b[1;32m    420\u001b[0m         \u001b[0mown_fid\u001b[0m \u001b[0;34m=\u001b[0m \u001b[0;32mFalse\u001b[0m\u001b[0;34m\u001b[0m\u001b[0;34m\u001b[0m\u001b[0m\n\u001b[1;32m    421\u001b[0m     \u001b[0;32melse\u001b[0m\u001b[0;34m:\u001b[0m\u001b[0;34m\u001b[0m\u001b[0;34m\u001b[0m\u001b[0m\n\u001b[0;32m--> 422\u001b[0;31m         \u001b[0mfid\u001b[0m \u001b[0;34m=\u001b[0m \u001b[0mopen\u001b[0m\u001b[0;34m(\u001b[0m\u001b[0mos_fspath\u001b[0m\u001b[0;34m(\u001b[0m\u001b[0mfile\u001b[0m\u001b[0;34m)\u001b[0m\u001b[0;34m,\u001b[0m \u001b[0;34m\"rb\"\u001b[0m\u001b[0;34m)\u001b[0m\u001b[0;34m\u001b[0m\u001b[0;34m\u001b[0m\u001b[0m\n\u001b[0m\u001b[1;32m    423\u001b[0m         \u001b[0mown_fid\u001b[0m \u001b[0;34m=\u001b[0m \u001b[0;32mTrue\u001b[0m\u001b[0;34m\u001b[0m\u001b[0;34m\u001b[0m\u001b[0m\n\u001b[1;32m    424\u001b[0m \u001b[0;34m\u001b[0m\u001b[0m\n",
            "\u001b[0;31mFileNotFoundError\u001b[0m: [Errno 2] No such file or directory: '/content/drive/My Drive/full_numpy_bitmap_bee.npy'"
          ]
        }
      ]
    },
    {
      "cell_type": "code",
      "metadata": {
        "id": "TFothogCMmBA",
        "colab_type": "code",
        "outputId": "c1add8fa-6999-4bad-f8a2-204acd7bb8cb",
        "colab": {
          "base_uri": "https://localhost:8080/",
          "height": 50
        }
      },
      "source": [
        "bee = bee[0:samples]\n",
        "crocodile = crocodile[0:samples]\n",
        "dragon = dragon[0:samples]\n",
        "eye = eye[0:samples]\n",
        "fish = fish[0:samples]\n",
        "flamingo = flamingo[0:samples]\n",
        "hedgehog = hedgehog[0:samples]\n",
        "hotdog = hotdog[0:samples]\n",
        "octopus = octopus[0:samples]\n",
        "telephone = telephone[0:samples]\n",
        "\n",
        "X = np.concatenate((bee,\n",
        "                    crocodile,\n",
        "                    dragon,\n",
        "                    eye,\n",
        "                    fish,\n",
        "                    flamingo,\n",
        "                    hedgehog,\n",
        "                    hotdog,\n",
        "                    octopus,\n",
        "                    telephone),\n",
        "                    axis = 0)\n",
        "print(X.shape)\n",
        "#X = X.reshape(50000,28,28,1)\n",
        "X = X/255\n",
        "Y = np.empty((samples * classes, 1))\n",
        "\n",
        "for i in range(0, classes) :\n",
        "  Y[i * samples : samples * (i + 1)] = i\n",
        "print(Y.shape)"
      ],
      "execution_count": 0,
      "outputs": [
        {
          "output_type": "stream",
          "text": [
            "(400000, 28, 28, 1)\n",
            "(400000, 1)\n"
          ],
          "name": "stdout"
        }
      ]
    },
    {
      "cell_type": "code",
      "metadata": {
        "id": "CZuC0zFzUn0W",
        "colab_type": "code",
        "outputId": "417c908f-9ba0-4223-d3dc-d28848e45b8c",
        "colab": {
          "base_uri": "https://localhost:8080/",
          "height": 34
        }
      },
      "source": [
        "from sklearn.model_selection import train_test_split\n",
        "xtr , xts , ytr, yts = train_test_split(X,Y, test_size = 0.2, random_state = 42)\n",
        "print(xts.shape)"
      ],
      "execution_count": 0,
      "outputs": [
        {
          "output_type": "stream",
          "text": [
            "(80000, 28, 28, 1)\n"
          ],
          "name": "stdout"
        }
      ]
    },
    {
      "cell_type": "code",
      "metadata": {
        "id": "CVrKIS1eF7r_",
        "colab_type": "code",
        "outputId": "d4690cd2-a4d1-4df0-c1bf-30f5372e9331",
        "colab": {
          "base_uri": "https://localhost:8080/",
          "height": 388
        }
      },
      "source": [
        "K.clear_session()\n",
        "l=.001\n",
        "model = tf.keras.models.Sequential()\n",
        "model.add(Conv2D(64, (5,5), activation = 'relu', padding = 'valid', input_shape = (28,28,1)))\n",
        "model.add(MaxPooling2D((2,2)))\n",
        "model.add(Conv2D(32, (5,5), activation = 'relu', padding = 'valid'))     \n",
        "model.add(MaxPooling2D((2,2)))\n",
        "model.add(Flatten())\n",
        "model.add(Dense(120,activation = 'relu', kernel_regularizer = l2(l)))\n",
        "model.add(Dense(84,activation = 'relu', kernel_regularizer = l2(l)))\n",
        "model.add(Dense(classes,activation = 'softmax'))\n",
        "opt = tf.keras.optimizers.Adam(lr = 0.001)\n",
        "model.compile(optimizer = opt, loss = 'sparse_categorical_crossentropy', metrics = ['accuracy'])\n",
        "hist = model.fit(xtr,ytr,validation_split = 0.2, batch_size = 100, epochs = 10)"
      ],
      "execution_count": 0,
      "outputs": [
        {
          "output_type": "stream",
          "text": [
            "Train on 256000 samples, validate on 64000 samples\n",
            "Epoch 1/10\n",
            "256000/256000 [==============================] - 14s 55us/sample - loss: 0.6716 - acc: 0.8295 - val_loss: 0.4814 - val_acc: 0.8805\n",
            "Epoch 2/10\n",
            "256000/256000 [==============================] - 14s 53us/sample - loss: 0.4341 - acc: 0.8897 - val_loss: 0.4026 - val_acc: 0.8980\n",
            "Epoch 3/10\n",
            "256000/256000 [==============================] - 14s 53us/sample - loss: 0.3824 - acc: 0.9013 - val_loss: 0.3869 - val_acc: 0.8988\n",
            "Epoch 4/10\n",
            "256000/256000 [==============================] - 13s 53us/sample - loss: 0.3574 - acc: 0.9073 - val_loss: 0.3647 - val_acc: 0.9051\n",
            "Epoch 5/10\n",
            "256000/256000 [==============================] - 14s 53us/sample - loss: 0.3401 - acc: 0.9108 - val_loss: 0.3667 - val_acc: 0.9023\n",
            "Epoch 6/10\n",
            "256000/256000 [==============================] - 14s 53us/sample - loss: 0.3269 - acc: 0.9145 - val_loss: 0.3403 - val_acc: 0.9098\n",
            "Epoch 7/10\n",
            "256000/256000 [==============================] - 14s 53us/sample - loss: 0.3167 - acc: 0.9169 - val_loss: 0.3427 - val_acc: 0.9105\n",
            "Epoch 8/10\n",
            "256000/256000 [==============================] - 14s 53us/sample - loss: 0.3084 - acc: 0.9191 - val_loss: 0.3315 - val_acc: 0.9126\n",
            "Epoch 9/10\n",
            "256000/256000 [==============================] - 14s 53us/sample - loss: 0.3016 - acc: 0.9214 - val_loss: 0.3393 - val_acc: 0.9086\n",
            "Epoch 10/10\n",
            "256000/256000 [==============================] - 14s 53us/sample - loss: 0.2955 - acc: 0.9228 - val_loss: 0.3354 - val_acc: 0.9107\n"
          ],
          "name": "stdout"
        }
      ]
    },
    {
      "cell_type": "code",
      "metadata": {
        "id": "CSlFcmI2I_fq",
        "colab_type": "code",
        "outputId": "0361ed70-f3cf-45f9-9ad5-8bd3eb2decdc",
        "colab": {
          "base_uri": "https://localhost:8080/",
          "height": 286
        }
      },
      "source": [
        "import sklearn\n",
        "xts = xts.reshape(xts.shape[0], 28, 28, 1)\n",
        "yhat = model.predict_proba(xts)\n",
        "yhat_max = np.ones(len(yhat[:,0]))\n",
        "for i in range(len(yhat[:,0])) :\n",
        "  yhat_max[i] = np.argmax(yhat[i])\n",
        "\n",
        "accTs = sklearn.metrics.accuracy_score(yts, yhat_max)\n",
        "print('test accuracy: ' + str(accTs * 100) + '%')\n",
        "plt.plot(hist.history['acc'])\n",
        "plt.plot(hist.history['val_acc'])\n",
        "plt.plot(hist.history['loss'])\n",
        "plt.legend(['acc','val_acc','loss'])\n",
        "plt.show()\n",
        "#print (\"test accuracy-\", acc , \"%\")"
      ],
      "execution_count": 0,
      "outputs": [
        {
          "output_type": "stream",
          "text": [
            "test accuracy: 91.0%\n"
          ],
          "name": "stdout"
        },
        {
          "output_type": "display_data",
          "data": {
            "image/png": "[encoded data removed]",
            "text/plain": [
              "<Figure size 432x288 with 1 Axes>"
            ]
          },
          "metadata": {
            "tags": []
          }
        }
      ]
    },
    {
      "cell_type": "code",
      "metadata": {
        "id": "eo9OlAMrxOXx",
        "colab_type": "code",
        "outputId": "c31242bf-9cb0-4b89-f287-e96fae8ffd4e",
        "colab": {
          "base_uri": "https://localhost:8080/",
          "height": 33
        }
      },
      "source": [
        "from google.colab import drive\n",
        "drive.mount('/content/drive',force_remount = True)"
      ],
      "execution_count": 0,
      "outputs": [
        {
          "output_type": "stream",
          "text": [
            "Mounted at /content/drive\n"
          ],
          "name": "stdout"
        }
      ]
    },
    {
      "cell_type": "code",
      "metadata": {
        "id": "J67XJhfnahxP",
        "colab_type": "code",
        "colab": {}
      },
      "source": [
        "import skimage\n",
        "inputSamples = 10\n",
        "inputSample = 6\n",
        "testSample = 3\n",
        "inputs = [0]* inputSamples\n",
        "inputdr = [0]* inputSample\n",
        "inputtest = [0]* inputSample\n",
        "i = 0\n",
        "j = 0\n",
        "\n",
        "for i in range (0,inputSamples):\n",
        "  j = i+1\n",
        "  inputs[i] = skimage.io.imread('/content/drive/My Drive/input/img' + str(j) + '.png')\n",
        "k = 0  \n",
        "for k in range (0,inputSample):\n",
        "  z = k+1\n",
        "  if z == 2:\n",
        "    z = z+1\n",
        "  inputdr[k] = skimage.io.imread('/content/drive/My Drive/input/papimg' + str(z) + '.png')\n",
        "for q in range (0,inputSample):\n",
        "  n = q+1\n",
        "  inputtest[q] = skimage.io.imread('/content/drive/My Drive/input/testimg' + str(n) + '.png')\n"
      ],
      "execution_count": 0,
      "outputs": []
    },
    {
      "cell_type": "code",
      "metadata": {
        "id": "OZbn8OOChJbC",
        "colab_type": "code",
        "outputId": "0794d630-e51f-45a5-8502-1a21915101a4",
        "colab": {
          "base_uri": "https://localhost:8080/",
          "height": 281
        }
      },
      "source": [
        "def test(img):\n",
        "  img = img[:,:,0]\n",
        "  img = img.reshape(1,28,28,1)\n",
        "  yhat = model.predict_proba(img)\n",
        "  img = img.reshape(28,28)\n",
        "  plt.title(results[np.argmax(yhat)])\n",
        "  plt.imshow(img,'gray')\n",
        "  plt.show()\n",
        "  \n",
        "def testdraw(img):\n",
        "  img = img[:,:,0]\n",
        "  img = img.reshape(1,28,28,1)\n",
        "  img = img/255\n",
        "  img[img>.6] =1\n",
        "  img[img<.7] =0\n",
        "  img = 1-img\n",
        "  yhat = model.predict_proba(img)\n",
        "  img = img.reshape(28,28)\n",
        "  plt.title(results[np.argmax(yhat)])\n",
        "  plt.imshow(img, 'gray')\n",
        "  \n",
        "for cim in range(len(inputtest)) :\n",
        "  test(compInputs[cim])"
      ],
      "execution_count": 0,
      "outputs": [
        {
          "output_type": "display_data",
          "data": {
            "image/png": "[encoded data removed]",
            "text/plain": [
              "<Figure size 432x288 with 1 Axes>"
            ]
          },
          "metadata": {
            "tags": []
          }
        }
      ]
    },
    {
      "cell_type": "code",
      "metadata": {
        "id": "xTUzlM8Em1QD",
        "colab_type": "code",
        "colab": {}
      },
      "source": [
        "\n"
      ],
      "execution_count": 0,
      "outputs": []
    }
  ]
}